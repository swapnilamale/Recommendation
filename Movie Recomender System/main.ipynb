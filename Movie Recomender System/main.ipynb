{
 "cells": [
  {
   "cell_type": "markdown",
   "id": "c0744ff8",
   "metadata": {},
   "source": [
    "# Import "
   ]
  },
  {
   "cell_type": "code",
   "execution_count": 1,
   "id": "aa60cbfc",
   "metadata": {},
   "outputs": [],
   "source": [
    "import warnings;warnings.filterwarnings('ignore')\n",
    "import os,sys,joblib,json,math\n",
    "from datetime import date,time,datetime,timedelta\n",
    "from tqdm import tqdm;tqdm.pandas()\n",
    "import numpy as np,pandas as pd\n",
    "pd.set_option('display.max_columns',None)\n",
    "\n",
    "from ast import literal_eval\n",
    "\n",
    "\n",
    "from nltk.stem.porter import PorterStemmer\n",
    "from sklearn.feature_extraction.text import CountVectorizer\n",
    "from sklearn.metrics.pairwise import cosine_similarity"
   ]
  },
  {
   "cell_type": "code",
   "execution_count": null,
   "id": "63e0dcab",
   "metadata": {},
   "outputs": [],
   "source": []
  },
  {
   "cell_type": "markdown",
   "id": "9f56a819",
   "metadata": {},
   "source": [
    "# Helper Functions"
   ]
  },
  {
   "cell_type": "code",
   "execution_count": 3,
   "id": "a44c027c",
   "metadata": {},
   "outputs": [],
   "source": [
    "def convert_genres_and_keywords(obj):\n",
    "    obj = literal_eval(obj)\n",
    "    extracted_genres = [i.get('name') for i in obj]\n",
    "    return extracted_genres\n",
    "\n",
    "def convert_cast(obj):\n",
    "    obj = literal_eval(obj)\n",
    "    if len(obj)>=3:\n",
    "        obj = obj[:3]\n",
    "    top_3_cast_name = [i.get('name') for i in obj]\n",
    "    return top_3_cast_name\n",
    "\n",
    "def fetch_director_from_crew(obj):\n",
    "    obj= literal_eval(obj)\n",
    "    director_list = [i.get('name') for i in obj if i.get('job') == 'Director']\n",
    "    return director_list\n",
    "\n",
    "def removing_spaces(obj_list):\n",
    "    obj_list =[i.title().replace(\" \",\"\") for i in obj_list]\n",
    "    return obj_list"
   ]
  },
  {
   "cell_type": "markdown",
   "id": "145dea94",
   "metadata": {},
   "source": [
    "# Loading Data"
   ]
  },
  {
   "cell_type": "code",
   "execution_count": 10,
   "id": "32165888",
   "metadata": {},
   "outputs": [],
   "source": [
    "# Upload Data\n",
    "df_movies = pd.read_csv('data/tmdb_5000_movies.csv')\n",
    "df_credits = pd.read_csv('data/tmdb_5000_credits.csv')\n",
    "df_movies = df_movies.merge(df_credits,on='title')\n",
    "df_movies= df_movies[['genres', 'id', 'keywords', 'title', 'overview', 'cast', 'crew']]\n",
    "df_movies.dropna(inplace=True)"
   ]
  },
  {
   "cell_type": "code",
   "execution_count": null,
   "id": "2de58b32",
   "metadata": {},
   "outputs": [
    {
     "name": "stderr",
     "output_type": "stream",
     "text": [
      "100%|██████████| 4806/4806 [00:00<00:00, 24070.88it/s]\n",
      "100%|██████████| 4806/4806 [00:00<00:00, 14832.89it/s]\n",
      "100%|██████████| 4806/4806 [00:02<00:00, 1803.94it/s]\n",
      "100%|██████████| 4806/4806 [00:02<00:00, 1640.07it/s]\n",
      "100%|██████████| 4806/4806 [00:00<00:00, 480738.00it/s]\n",
      "100%|██████████| 4806/4806 [00:00<00:00, 244713.98it/s]\n",
      "100%|██████████| 4806/4806 [00:00<00:00, 369109.81it/s]\n",
      "100%|██████████| 4806/4806 [00:00<00:00, 599560.54it/s]\n",
      "100%|██████████| 4806/4806 [00:00<00:00, 177884.09it/s]\n",
      "100%|██████████| 4806/4806 [00:00<00:00, 370160.40it/s]\n"
     ]
    }
   ],
   "source": [
    "# PostProcessing\n",
    "df_movies['genres'] = df_movies.genres.progress_apply(lambda x:convert_genres_and_keywords(x))\n",
    "df_movies['keywords'] = df_movies.keywords.progress_apply(lambda x:convert_genres_and_keywords(x))\n",
    "df_movies['cast'] = df_movies.cast.progress_apply(lambda x : convert_cast(x))\n",
    "df_movies['director_name'] = df_movies.crew.progress_apply(lambda x : fetch_director_from_crew(x))\n",
    "\n",
    "# Removng Spaces\n",
    "df_movies['genres'] = df_movies.genres.progress_apply(lambda x:removing_spaces(x))\n",
    "df_movies['keywords'] = df_movies.keywords.progress_apply(lambda x:removing_spaces(x))\n",
    "df_movies['cast'] = df_movies.cast.progress_apply(lambda x : removing_spaces(x))\n",
    "df_movies['director_name'] = df_movies.director_name.progress_apply(lambda x : removing_spaces(x))\n",
    "\n",
    "# Converting Overview into string\n",
    "df_movies['overview'] = df_movies.overview.progress_apply(lambda x: x.split())\n",
    "\n",
    "# Creating tgs\n",
    "df_movies['tags'] = df_movies.overview + df_movies.genres + df_movies.cast + df_movies.director_name\n",
    "df_movies['tags'] = df_movies.tags.progress_apply(lambda x:' '.join(x)).str.lower()\n",
    "\n",
    "\n",
    "# Taking only required columns\n",
    "df_movies = df_movies['id title tags'.split()]"
   ]
  },
  {
   "cell_type": "markdown",
   "id": "1a944258",
   "metadata": {},
   "source": [
    "# Text Pre-Processing"
   ]
  },
  {
   "cell_type": "code",
   "execution_count": null,
   "id": "8ecaf541",
   "metadata": {},
   "outputs": [],
   "source": [
    "# Converting title into lower case\n",
    "df_movies['title'] = df_movies.title.str.lower()"
   ]
  },
  {
   "cell_type": "code",
   "execution_count": 6,
   "id": "3f801f76",
   "metadata": {},
   "outputs": [
    {
     "name": "stderr",
     "output_type": "stream",
     "text": [
      "100%|██████████| 4806/4806 [00:04<00:00, 1192.27it/s]\n"
     ]
    }
   ],
   "source": [
    "# DO the stemming of the tags\n",
    "def get_steming_of_tag(str_obj):\n",
    "    lst_obj = str_obj.split()\n",
    "    lst_obj_stem = [ps_obj.stem(i) for i in lst_obj]\n",
    "    str_obj_stemped = \" \".join(lst_obj_stem)\n",
    "    return str_obj_stemped\n",
    "\n",
    "ps_obj = PorterStemmer()\n",
    "df_movies['tags'] = df_movies.tags.progress_apply(lambda x:get_steming_of_tag(x))"
   ]
  },
  {
   "cell_type": "markdown",
   "id": "469a9ffd",
   "metadata": {},
   "source": [
    "# Converting string into respective vector"
   ]
  },
  {
   "cell_type": "markdown",
   "id": "7d42a5e4",
   "metadata": {},
   "source": [
    "### BOW"
   ]
  },
  {
   "cell_type": "code",
   "execution_count": 7,
   "id": "c3eaf1ba",
   "metadata": {},
   "outputs": [],
   "source": [
    "# Reset Index of DataFrame\n",
    "df_movies = df_movies.reset_index(drop=True)\n",
    "\n",
    "# Create Text to Vector Embedding of tags\n",
    "count_vec_obj = CountVectorizer(max_features=5000,stop_words='english')\n",
    "tag_vector = count_vec_obj.fit_transform(df_movies.tags).toarray()\n",
    "\n",
    "# Create Similarity Matrics from vector\n",
    "similarity_matrics = cosine_similarity(tag_vector)"
   ]
  },
  {
   "cell_type": "code",
   "execution_count": 8,
   "id": "c9fad0da",
   "metadata": {},
   "outputs": [
    {
     "name": "stderr",
     "output_type": "stream",
     "text": [
      "100%|██████████| 4806/4806 [00:03<00:00, 1351.62it/s]\n"
     ]
    }
   ],
   "source": [
    "def recommend(movie_title, k=5):\n",
    "    movie_index = df_movies[df_movies.title == movie_title].index[0]\n",
    "    movie_distances = similarity_matrics[movie_index]\n",
    "    sorted_index = np.argsort(movie_distances)[::-1]\n",
    "    sorted_scores =movie_distances[sorted_index]\n",
    "    top_reco_indexes = sorted_index[1:k+1]\n",
    "    top_movies_list = df_movies.title.iloc[top_reco_indexes].tolist()\n",
    "    return top_movies_list\n",
    "\n",
    "df_movies['reco_movies'] = df_movies.title.progress_apply(lambda x: recommend(x))"
   ]
  },
  {
   "cell_type": "code",
   "execution_count": 9,
   "id": "35ec4e75",
   "metadata": {},
   "outputs": [
    {
     "data": {
      "text/html": [
       "<div>\n",
       "<style scoped>\n",
       "    .dataframe tbody tr th:only-of-type {\n",
       "        vertical-align: middle;\n",
       "    }\n",
       "\n",
       "    .dataframe tbody tr th {\n",
       "        vertical-align: top;\n",
       "    }\n",
       "\n",
       "    .dataframe thead th {\n",
       "        text-align: right;\n",
       "    }\n",
       "</style>\n",
       "<table border=\"1\" class=\"dataframe\">\n",
       "  <thead>\n",
       "    <tr style=\"text-align: right;\">\n",
       "      <th></th>\n",
       "      <th>id</th>\n",
       "      <th>title</th>\n",
       "      <th>tags</th>\n",
       "      <th>reco_movies</th>\n",
       "    </tr>\n",
       "  </thead>\n",
       "  <tbody>\n",
       "    <tr>\n",
       "      <th>0</th>\n",
       "      <td>19995</td>\n",
       "      <td>avatar</td>\n",
       "      <td>in the 22nd century, a parapleg marin is dispa...</td>\n",
       "      <td>[mad max beyond thunderdome, the helix... load...</td>\n",
       "    </tr>\n",
       "    <tr>\n",
       "      <th>1</th>\n",
       "      <td>285</td>\n",
       "      <td>pirates of the caribbean: at world's end</td>\n",
       "      <td>captain barbossa, long believ to be dead, ha c...</td>\n",
       "      <td>[pirates of the caribbean: dead man's chest, t...</td>\n",
       "    </tr>\n",
       "    <tr>\n",
       "      <th>2</th>\n",
       "      <td>206647</td>\n",
       "      <td>spectre</td>\n",
       "      <td>a cryptic messag from bond’ past send him on a...</td>\n",
       "      <td>[quantum of solace, never say never again, fro...</td>\n",
       "    </tr>\n",
       "    <tr>\n",
       "      <th>3</th>\n",
       "      <td>49026</td>\n",
       "      <td>the dark knight rises</td>\n",
       "      <td>follow the death of district attorney harvey d...</td>\n",
       "      <td>[the dark knight, batman forever, batman, amid...</td>\n",
       "    </tr>\n",
       "    <tr>\n",
       "      <th>4</th>\n",
       "      <td>49529</td>\n",
       "      <td>john carter</td>\n",
       "      <td>john carter is a war-weary, former militari ca...</td>\n",
       "      <td>[krrish, stripes, get carter, the other side o...</td>\n",
       "    </tr>\n",
       "    <tr>\n",
       "      <th>5</th>\n",
       "      <td>559</td>\n",
       "      <td>spider-man 3</td>\n",
       "      <td>the seemingli invinc spider-man goe up against...</td>\n",
       "      <td>[spider-man 2, spider-man, the amazing spider-...</td>\n",
       "    </tr>\n",
       "    <tr>\n",
       "      <th>6</th>\n",
       "      <td>38757</td>\n",
       "      <td>tangled</td>\n",
       "      <td>when the kingdom' most wanted-and most charmin...</td>\n",
       "      <td>[out of inferno, the thief and the cobbler, at...</td>\n",
       "    </tr>\n",
       "    <tr>\n",
       "      <th>7</th>\n",
       "      <td>99861</td>\n",
       "      <td>avengers: age of ultron</td>\n",
       "      <td>when toni stark tri to jumpstart a dormant pea...</td>\n",
       "      <td>[iron man 2, iron man 3, iron man, the helix.....</td>\n",
       "    </tr>\n",
       "    <tr>\n",
       "      <th>8</th>\n",
       "      <td>767</td>\n",
       "      <td>harry potter and the half-blood prince</td>\n",
       "      <td>as harri begin hi sixth year at hogwarts, he d...</td>\n",
       "      <td>[harry potter and the goblet of fire, harry po...</td>\n",
       "    </tr>\n",
       "    <tr>\n",
       "      <th>9</th>\n",
       "      <td>209112</td>\n",
       "      <td>batman v superman: dawn of justice</td>\n",
       "      <td>fear the action of a god-lik super hero left u...</td>\n",
       "      <td>[thor, last action hero, man of steel, defendo...</td>\n",
       "    </tr>\n",
       "  </tbody>\n",
       "</table>\n",
       "</div>"
      ],
      "text/plain": [
       "       id                                     title  \\\n",
       "0   19995                                    avatar   \n",
       "1     285  pirates of the caribbean: at world's end   \n",
       "2  206647                                   spectre   \n",
       "3   49026                     the dark knight rises   \n",
       "4   49529                               john carter   \n",
       "5     559                              spider-man 3   \n",
       "6   38757                                   tangled   \n",
       "7   99861                   avengers: age of ultron   \n",
       "8     767    harry potter and the half-blood prince   \n",
       "9  209112        batman v superman: dawn of justice   \n",
       "\n",
       "                                                tags  \\\n",
       "0  in the 22nd century, a parapleg marin is dispa...   \n",
       "1  captain barbossa, long believ to be dead, ha c...   \n",
       "2  a cryptic messag from bond’ past send him on a...   \n",
       "3  follow the death of district attorney harvey d...   \n",
       "4  john carter is a war-weary, former militari ca...   \n",
       "5  the seemingli invinc spider-man goe up against...   \n",
       "6  when the kingdom' most wanted-and most charmin...   \n",
       "7  when toni stark tri to jumpstart a dormant pea...   \n",
       "8  as harri begin hi sixth year at hogwarts, he d...   \n",
       "9  fear the action of a god-lik super hero left u...   \n",
       "\n",
       "                                         reco_movies  \n",
       "0  [mad max beyond thunderdome, the helix... load...  \n",
       "1  [pirates of the caribbean: dead man's chest, t...  \n",
       "2  [quantum of solace, never say never again, fro...  \n",
       "3  [the dark knight, batman forever, batman, amid...  \n",
       "4  [krrish, stripes, get carter, the other side o...  \n",
       "5  [spider-man 2, spider-man, the amazing spider-...  \n",
       "6  [out of inferno, the thief and the cobbler, at...  \n",
       "7  [iron man 2, iron man 3, iron man, the helix.....  \n",
       "8  [harry potter and the goblet of fire, harry po...  \n",
       "9  [thor, last action hero, man of steel, defendo...  "
      ]
     },
     "execution_count": 9,
     "metadata": {},
     "output_type": "execute_result"
    }
   ],
   "source": [
    "df_movies.head(10)"
   ]
  }
 ],
 "metadata": {
  "kernelspec": {
   "display_name": "base",
   "language": "python",
   "name": "python3"
  },
  "language_info": {
   "codemirror_mode": {
    "name": "ipython",
    "version": 3
   },
   "file_extension": ".py",
   "mimetype": "text/x-python",
   "name": "python",
   "nbconvert_exporter": "python",
   "pygments_lexer": "ipython3",
   "version": "3.9.12"
  }
 },
 "nbformat": 4,
 "nbformat_minor": 5
}
