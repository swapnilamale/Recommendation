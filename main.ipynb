{
 "cells": [
  {
   "cell_type": "markdown",
   "id": "7b4a067b",
   "metadata": {},
   "source": [
    "```\n",
    "Link:\n",
    "```"
   ]
  },
  {
   "cell_type": "markdown",
   "id": "bb07cd84",
   "metadata": {},
   "source": [
    "```\n",
    "Recommender System : Its an sales man for internet\n",
    "\n",
    "Typr of Recommender System:\n",
    "1. Content Based : Content similarity base recommendation\n",
    "2. Collabarative Filtering Based : User Similarity base Recommendation\n",
    "3. Hybrid\n",
    "```"
   ]
  },
  {
   "cell_type": "code",
   "execution_count": null,
   "id": "75f1bb0f",
   "metadata": {},
   "outputs": [],
   "source": []
  }
 ],
 "metadata": {
  "kernelspec": {
   "display_name": "Python 3 (ipykernel)",
   "language": "python",
   "name": "python3"
  },
  "language_info": {
   "codemirror_mode": {
    "name": "ipython",
    "version": 3
   },
   "file_extension": ".py",
   "mimetype": "text/x-python",
   "name": "python",
   "nbconvert_exporter": "python",
   "pygments_lexer": "ipython3",
   "version": "3.9.12"
  }
 },
 "nbformat": 4,
 "nbformat_minor": 5
}
